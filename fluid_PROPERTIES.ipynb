{
  "nbformat": 4,
  "nbformat_minor": 0,
  "metadata": {
    "colab": {
      "provenance": []
    },
    "kernelspec": {
      "name": "python3",
      "display_name": "Python 3"
    },
    "language_info": {
      "name": "python"
    }
  },
  "cells": [
    {
      "cell_type": "code",
      "source": [
        "import numpy as np\n",
        "import matplotlib.pyplot as plt\n",
        "import pandas as pd"
      ],
      "metadata": {
        "id": "oSjQuutNWiZV"
      },
      "execution_count": 2,
      "outputs": []
    },
    {
      "cell_type": "code",
      "source": [
        "flowrate = pd.read_csv('Table 2.2-Flow Rates for Example 2.2.csv')"
      ],
      "metadata": {
        "id": "EiXF0_DKb5CF"
      },
      "execution_count": 3,
      "outputs": []
    },
    {
      "cell_type": "code",
      "source": [
        "flowrate"
      ],
      "metadata": {
        "colab": {
          "base_uri": "https://localhost:8080/",
          "height": 363
        },
        "id": "sT2dxfD3c1GH",
        "outputId": "b0d6c903-c835-4b3d-9c19-79837bef89fc"
      },
      "execution_count": 4,
      "outputs": [
        {
          "output_type": "execute_result",
          "data": {
            "text/plain": [
              "     Sw      qo     qw\n",
              "0  0.00  0.0600  0.000\n",
              "1  0.20  0.0420  0.000\n",
              "2  0.30  0.0300  0.010\n",
              "3  0.40  0.0200  0.020\n",
              "4  0.50  0.0130  0.035\n",
              "5  0.60  0.0075  0.051\n",
              "6  0.70  0.0040  0.068\n",
              "7  0.80  0.0010  0.085\n",
              "8  0.85  0.0000  0.096\n",
              "9  1.00  0.0000  0.250"
            ],
            "text/html": [
              "\n",
              "  <div id=\"df-aa1afc7a-8273-4646-8858-e95420de1666\">\n",
              "    <div class=\"colab-df-container\">\n",
              "      <div>\n",
              "<style scoped>\n",
              "    .dataframe tbody tr th:only-of-type {\n",
              "        vertical-align: middle;\n",
              "    }\n",
              "\n",
              "    .dataframe tbody tr th {\n",
              "        vertical-align: top;\n",
              "    }\n",
              "\n",
              "    .dataframe thead th {\n",
              "        text-align: right;\n",
              "    }\n",
              "</style>\n",
              "<table border=\"1\" class=\"dataframe\">\n",
              "  <thead>\n",
              "    <tr style=\"text-align: right;\">\n",
              "      <th></th>\n",
              "      <th>Sw</th>\n",
              "      <th>qo</th>\n",
              "      <th>qw</th>\n",
              "    </tr>\n",
              "  </thead>\n",
              "  <tbody>\n",
              "    <tr>\n",
              "      <th>0</th>\n",
              "      <td>0.00</td>\n",
              "      <td>0.0600</td>\n",
              "      <td>0.000</td>\n",
              "    </tr>\n",
              "    <tr>\n",
              "      <th>1</th>\n",
              "      <td>0.20</td>\n",
              "      <td>0.0420</td>\n",
              "      <td>0.000</td>\n",
              "    </tr>\n",
              "    <tr>\n",
              "      <th>2</th>\n",
              "      <td>0.30</td>\n",
              "      <td>0.0300</td>\n",
              "      <td>0.010</td>\n",
              "    </tr>\n",
              "    <tr>\n",
              "      <th>3</th>\n",
              "      <td>0.40</td>\n",
              "      <td>0.0200</td>\n",
              "      <td>0.020</td>\n",
              "    </tr>\n",
              "    <tr>\n",
              "      <th>4</th>\n",
              "      <td>0.50</td>\n",
              "      <td>0.0130</td>\n",
              "      <td>0.035</td>\n",
              "    </tr>\n",
              "    <tr>\n",
              "      <th>5</th>\n",
              "      <td>0.60</td>\n",
              "      <td>0.0075</td>\n",
              "      <td>0.051</td>\n",
              "    </tr>\n",
              "    <tr>\n",
              "      <th>6</th>\n",
              "      <td>0.70</td>\n",
              "      <td>0.0040</td>\n",
              "      <td>0.068</td>\n",
              "    </tr>\n",
              "    <tr>\n",
              "      <th>7</th>\n",
              "      <td>0.80</td>\n",
              "      <td>0.0010</td>\n",
              "      <td>0.085</td>\n",
              "    </tr>\n",
              "    <tr>\n",
              "      <th>8</th>\n",
              "      <td>0.85</td>\n",
              "      <td>0.0000</td>\n",
              "      <td>0.096</td>\n",
              "    </tr>\n",
              "    <tr>\n",
              "      <th>9</th>\n",
              "      <td>1.00</td>\n",
              "      <td>0.0000</td>\n",
              "      <td>0.250</td>\n",
              "    </tr>\n",
              "  </tbody>\n",
              "</table>\n",
              "</div>\n",
              "      <button class=\"colab-df-convert\" onclick=\"convertToInteractive('df-aa1afc7a-8273-4646-8858-e95420de1666')\"\n",
              "              title=\"Convert this dataframe to an interactive table.\"\n",
              "              style=\"display:none;\">\n",
              "        \n",
              "  <svg xmlns=\"http://www.w3.org/2000/svg\" height=\"24px\"viewBox=\"0 0 24 24\"\n",
              "       width=\"24px\">\n",
              "    <path d=\"M0 0h24v24H0V0z\" fill=\"none\"/>\n",
              "    <path d=\"M18.56 5.44l.94 2.06.94-2.06 2.06-.94-2.06-.94-.94-2.06-.94 2.06-2.06.94zm-11 1L8.5 8.5l.94-2.06 2.06-.94-2.06-.94L8.5 2.5l-.94 2.06-2.06.94zm10 10l.94 2.06.94-2.06 2.06-.94-2.06-.94-.94-2.06-.94 2.06-2.06.94z\"/><path d=\"M17.41 7.96l-1.37-1.37c-.4-.4-.92-.59-1.43-.59-.52 0-1.04.2-1.43.59L10.3 9.45l-7.72 7.72c-.78.78-.78 2.05 0 2.83L4 21.41c.39.39.9.59 1.41.59.51 0 1.02-.2 1.41-.59l7.78-7.78 2.81-2.81c.8-.78.8-2.07 0-2.86zM5.41 20L4 18.59l7.72-7.72 1.47 1.35L5.41 20z\"/>\n",
              "  </svg>\n",
              "      </button>\n",
              "      \n",
              "  <style>\n",
              "    .colab-df-container {\n",
              "      display:flex;\n",
              "      flex-wrap:wrap;\n",
              "      gap: 12px;\n",
              "    }\n",
              "\n",
              "    .colab-df-convert {\n",
              "      background-color: #E8F0FE;\n",
              "      border: none;\n",
              "      border-radius: 50%;\n",
              "      cursor: pointer;\n",
              "      display: none;\n",
              "      fill: #1967D2;\n",
              "      height: 32px;\n",
              "      padding: 0 0 0 0;\n",
              "      width: 32px;\n",
              "    }\n",
              "\n",
              "    .colab-df-convert:hover {\n",
              "      background-color: #E2EBFA;\n",
              "      box-shadow: 0px 1px 2px rgba(60, 64, 67, 0.3), 0px 1px 3px 1px rgba(60, 64, 67, 0.15);\n",
              "      fill: #174EA6;\n",
              "    }\n",
              "\n",
              "    [theme=dark] .colab-df-convert {\n",
              "      background-color: #3B4455;\n",
              "      fill: #D2E3FC;\n",
              "    }\n",
              "\n",
              "    [theme=dark] .colab-df-convert:hover {\n",
              "      background-color: #434B5C;\n",
              "      box-shadow: 0px 1px 3px 1px rgba(0, 0, 0, 0.15);\n",
              "      filter: drop-shadow(0px 1px 2px rgba(0, 0, 0, 0.3));\n",
              "      fill: #FFFFFF;\n",
              "    }\n",
              "  </style>\n",
              "\n",
              "      <script>\n",
              "        const buttonEl =\n",
              "          document.querySelector('#df-aa1afc7a-8273-4646-8858-e95420de1666 button.colab-df-convert');\n",
              "        buttonEl.style.display =\n",
              "          google.colab.kernel.accessAllowed ? 'block' : 'none';\n",
              "\n",
              "        async function convertToInteractive(key) {\n",
              "          const element = document.querySelector('#df-aa1afc7a-8273-4646-8858-e95420de1666');\n",
              "          const dataTable =\n",
              "            await google.colab.kernel.invokeFunction('convertToInteractive',\n",
              "                                                     [key], {});\n",
              "          if (!dataTable) return;\n",
              "\n",
              "          const docLinkHtml = 'Like what you see? Visit the ' +\n",
              "            '<a target=\"_blank\" href=https://colab.research.google.com/notebooks/data_table.ipynb>data table notebook</a>'\n",
              "            + ' to learn more about interactive tables.';\n",
              "          element.innerHTML = '';\n",
              "          dataTable['output_type'] = 'display_data';\n",
              "          await google.colab.output.renderOutput(dataTable, element);\n",
              "          const docLink = document.createElement('div');\n",
              "          docLink.innerHTML = docLinkHtml;\n",
              "          element.appendChild(docLink);\n",
              "        }\n",
              "      </script>\n",
              "    </div>\n",
              "  </div>\n",
              "  "
            ]
          },
          "metadata": {},
          "execution_count": 4
        }
      ]
    },
    {
      "cell_type": "code",
      "source": [
        "# plot data\n",
        "p1 = plt.plot(flowrate.Sw, flowrate.qo)\n",
        "p2 = plt.plot(flowrate.Sw, flowrate.qw)\n",
        "plt.xlabel(\"Sw\"); plt.ylabel(\"q_oil, q_water (cm3/s)\")\n",
        "plt.legend((p1[0], p2[0]), ('q_oil', 'q_water'))\n",
        "plt.title(\"Flow Rates\")"
      ],
      "metadata": {
        "colab": {
          "base_uri": "https://localhost:8080/",
          "height": 312
        },
        "id": "CAtcOAE3c-qT",
        "outputId": "cb1de9fc-5306-41bd-ec9a-1f4478bbb255"
      },
      "execution_count": 5,
      "outputs": [
        {
          "output_type": "execute_result",
          "data": {
            "text/plain": [
              "Text(0.5, 1.0, 'Flow Rates')"
            ]
          },
          "metadata": {},
          "execution_count": 5
        },
        {
          "output_type": "display_data",
          "data": {
            "text/plain": [
              "<Figure size 432x288 with 1 Axes>"
            ],
            "image/png": "[encoded data removed]"
          },
          "metadata": {
            "needs_background": "light"
          }
        }
      ]
    },
    {
      "cell_type": "code",
      "source": [
        "#calculate relative permeabilities of oil and water\"\n",
        "kr_o = flowrate.qo / flowrate.qo[0] #qo per q0 at Sw=0\n",
        "kr_w = flowrate.qw / flowrate.qw[9] #qw per qw at Sw=1\n",
        "\n",
        "# plot result\n",
        "p1 = plt.plot(flowrate.Sw, kr_o)\n",
        "p2 = plt.plot(flowrate.Sw, kr_w)\n",
        "plt.xlabel(\"Sw\"); plt.ylabel(\"kr_o, kr_w (unitless)\")\n",
        "plt.legend((p1[0], p2[0]), ('kr_o', 'kr_w'))\n",
        "plt.title(\"Relative Permeabilities\")"
      ],
      "metadata": {
        "colab": {
          "base_uri": "https://localhost:8080/",
          "height": 312
        },
        "id": "JoJiNsx7dFAO",
        "outputId": "faf974e8-17ad-4249-b1ed-d2ffb8277bf8"
      },
      "execution_count": 6,
      "outputs": [
        {
          "output_type": "execute_result",
          "data": {
            "text/plain": [
              "Text(0.5, 1.0, 'Relative Permeabilities')"
            ]
          },
          "metadata": {},
          "execution_count": 6
        },
        {
          "output_type": "display_data",
          "data": {
            "text/plain": [
              "<Figure size 432x288 with 1 Axes>"
            ],
            "image/png": "[encoded data removed]"
          },
          "metadata": {
            "needs_background": "light"
          }
        }
      ]
    },
    {
      "cell_type": "code",
      "source": [
        "#phase permeabilities of oil and water\"\n",
        "\n",
        "#known\n",
        "mu_oil = 5 #oil viscosity, cP\n",
        "mu_water = 1.2 #water viscosity, cP\n",
        "core_length = 12 #cm\n",
        "dP = -2.5 #negative because of pressure drop, atm\n",
        "core_area = 5 #cm2\n",
        "\n",
        "\n",
        "k_o = -(flowrate.qo * mu_oil / core_area) / (dP / core_length)\n",
        "k_w = -(flowrate.qw * mu_water / core_area) / (dP / core_length)\n",
        "\n",
        "# plot result\n",
        "p1 = plt.plot(flowrate.Sw, k_o)\n",
        "p2 = plt.plot(flowrate.Sw, k_w)\n",
        "plt.xlabel(\"Sw\"); plt.ylabel(\"k_o, k_w (unitless)\")\n",
        "plt.legend((p1[0], p2[0]), ('k_o', 'k_w'))\n",
        "plt.title(\"Phase Permeabilities\")"
      ],
      "metadata": {
        "colab": {
          "base_uri": "https://localhost:8080/",
          "height": 312
        },
        "id": "cH6-dYXgdyWT",
        "outputId": "063088be-cd41-4063-b2ea-235891afb92f"
      },
      "execution_count": 7,
      "outputs": [
        {
          "output_type": "execute_result",
          "data": {
            "text/plain": [
              "Text(0.5, 1.0, 'Phase Permeabilities')"
            ]
          },
          "metadata": {},
          "execution_count": 7
        },
        {
          "output_type": "display_data",
          "data": {
            "text/plain": [
              "<Figure size 432x288 with 1 Axes>"
            ],
            "image/png": "[encoded data removed]"
          },
          "metadata": {
            "needs_background": "light"
          }
        }
      ]
    },
    {
      "cell_type": "code",
      "source": [
        "#Leverett J function for different sets of core\"\n",
        "\n",
        "# known\n",
        "sigma = 72 # interfacial tension, in dyne/cm\n",
        "theta = 45 # angle of wettability\n",
        "\n",
        "\n",
        "# capillary pressure in psi\n",
        "capilar = pd.read_csv('Table 2.3-Capillary Pressure Sets for Example 2.3.csv')\n",
        "capilar.head()\n",
        "\n",
        "# Pc_1: capillary pressure of core 1, at 1 md and poro 0.08\n",
        "# Pc_2: capillary pressure of core 2, at 15 md and poro 0.11\n",
        "# Pc_3: capillary pressure of core 3, at 100 md and poro 0.15\n",
        "# Pc_4: capillary pressure of core 4, at 500 md and poro 0.22"
      ],
      "metadata": {
        "colab": {
          "base_uri": "https://localhost:8080/",
          "height": 206
        },
        "id": "on284L79d9Yd",
        "outputId": "125bc92a-2fb6-4021-c1d5-c2803115222b"
      },
      "execution_count": 9,
      "outputs": [
        {
          "output_type": "execute_result",
          "data": {
            "text/plain": [
              "     sw   Pc_1   Pc_2   Pc_3  Pc_4\n",
              "0  15.0  93.59  28.34  12.82  6.94\n",
              "1  16.0  66.48  20.13   9.10  4.93\n",
              "2  17.0  46.54  14.09   6.37  3.45\n",
              "3  18.0  39.89  12.08   5.46  2.96\n",
              "4  19.0  33.24  10.06   4.55  2.47"
            ],
            "text/html": [
              "\n",
              "  <div id=\"df-d1127f30-f814-4cbe-a1a1-e7ab446d3289\">\n",
              "    <div class=\"colab-df-container\">\n",
              "      <div>\n",
              "<style scoped>\n",
              "    .dataframe tbody tr th:only-of-type {\n",
              "        vertical-align: middle;\n",
              "    }\n",
              "\n",
              "    .dataframe tbody tr th {\n",
              "        vertical-align: top;\n",
              "    }\n",
              "\n",
              "    .dataframe thead th {\n",
              "        text-align: right;\n",
              "    }\n",
              "</style>\n",
              "<table border=\"1\" class=\"dataframe\">\n",
              "  <thead>\n",
              "    <tr style=\"text-align: right;\">\n",
              "      <th></th>\n",
              "      <th>sw</th>\n",
              "      <th>Pc_1</th>\n",
              "      <th>Pc_2</th>\n",
              "      <th>Pc_3</th>\n",
              "      <th>Pc_4</th>\n",
              "    </tr>\n",
              "  </thead>\n",
              "  <tbody>\n",
              "    <tr>\n",
              "      <th>0</th>\n",
              "      <td>15.0</td>\n",
              "      <td>93.59</td>\n",
              "      <td>28.34</td>\n",
              "      <td>12.82</td>\n",
              "      <td>6.94</td>\n",
              "    </tr>\n",
              "    <tr>\n",
              "      <th>1</th>\n",
              "      <td>16.0</td>\n",
              "      <td>66.48</td>\n",
              "      <td>20.13</td>\n",
              "      <td>9.10</td>\n",
              "      <td>4.93</td>\n",
              "    </tr>\n",
              "    <tr>\n",
              "      <th>2</th>\n",
              "      <td>17.0</td>\n",
              "      <td>46.54</td>\n",
              "      <td>14.09</td>\n",
              "      <td>6.37</td>\n",
              "      <td>3.45</td>\n",
              "    </tr>\n",
              "    <tr>\n",
              "      <th>3</th>\n",
              "      <td>18.0</td>\n",
              "      <td>39.89</td>\n",
              "      <td>12.08</td>\n",
              "      <td>5.46</td>\n",
              "      <td>2.96</td>\n",
              "    </tr>\n",
              "    <tr>\n",
              "      <th>4</th>\n",
              "      <td>19.0</td>\n",
              "      <td>33.24</td>\n",
              "      <td>10.06</td>\n",
              "      <td>4.55</td>\n",
              "      <td>2.47</td>\n",
              "    </tr>\n",
              "  </tbody>\n",
              "</table>\n",
              "</div>\n",
              "      <button class=\"colab-df-convert\" onclick=\"convertToInteractive('df-d1127f30-f814-4cbe-a1a1-e7ab446d3289')\"\n",
              "              title=\"Convert this dataframe to an interactive table.\"\n",
              "              style=\"display:none;\">\n",
              "        \n",
              "  <svg xmlns=\"http://www.w3.org/2000/svg\" height=\"24px\"viewBox=\"0 0 24 24\"\n",
              "       width=\"24px\">\n",
              "    <path d=\"M0 0h24v24H0V0z\" fill=\"none\"/>\n",
              "    <path d=\"M18.56 5.44l.94 2.06.94-2.06 2.06-.94-2.06-.94-.94-2.06-.94 2.06-2.06.94zm-11 1L8.5 8.5l.94-2.06 2.06-.94-2.06-.94L8.5 2.5l-.94 2.06-2.06.94zm10 10l.94 2.06.94-2.06 2.06-.94-2.06-.94-.94-2.06-.94 2.06-2.06.94z\"/><path d=\"M17.41 7.96l-1.37-1.37c-.4-.4-.92-.59-1.43-.59-.52 0-1.04.2-1.43.59L10.3 9.45l-7.72 7.72c-.78.78-.78 2.05 0 2.83L4 21.41c.39.39.9.59 1.41.59.51 0 1.02-.2 1.41-.59l7.78-7.78 2.81-2.81c.8-.78.8-2.07 0-2.86zM5.41 20L4 18.59l7.72-7.72 1.47 1.35L5.41 20z\"/>\n",
              "  </svg>\n",
              "      </button>\n",
              "      \n",
              "  <style>\n",
              "    .colab-df-container {\n",
              "      display:flex;\n",
              "      flex-wrap:wrap;\n",
              "      gap: 12px;\n",
              "    }\n",
              "\n",
              "    .colab-df-convert {\n",
              "      background-color: #E8F0FE;\n",
              "      border: none;\n",
              "      border-radius: 50%;\n",
              "      cursor: pointer;\n",
              "      display: none;\n",
              "      fill: #1967D2;\n",
              "      height: 32px;\n",
              "      padding: 0 0 0 0;\n",
              "      width: 32px;\n",
              "    }\n",
              "\n",
              "    .colab-df-convert:hover {\n",
              "      background-color: #E2EBFA;\n",
              "      box-shadow: 0px 1px 2px rgba(60, 64, 67, 0.3), 0px 1px 3px 1px rgba(60, 64, 67, 0.15);\n",
              "      fill: #174EA6;\n",
              "    }\n",
              "\n",
              "    [theme=dark] .colab-df-convert {\n",
              "      background-color: #3B4455;\n",
              "      fill: #D2E3FC;\n",
              "    }\n",
              "\n",
              "    [theme=dark] .colab-df-convert:hover {\n",
              "      background-color: #434B5C;\n",
              "      box-shadow: 0px 1px 3px 1px rgba(0, 0, 0, 0.15);\n",
              "      filter: drop-shadow(0px 1px 2px rgba(0, 0, 0, 0.3));\n",
              "      fill: #FFFFFF;\n",
              "    }\n",
              "  </style>\n",
              "\n",
              "      <script>\n",
              "        const buttonEl =\n",
              "          document.querySelector('#df-d1127f30-f814-4cbe-a1a1-e7ab446d3289 button.colab-df-convert');\n",
              "        buttonEl.style.display =\n",
              "          google.colab.kernel.accessAllowed ? 'block' : 'none';\n",
              "\n",
              "        async function convertToInteractive(key) {\n",
              "          const element = document.querySelector('#df-d1127f30-f814-4cbe-a1a1-e7ab446d3289');\n",
              "          const dataTable =\n",
              "            await google.colab.kernel.invokeFunction('convertToInteractive',\n",
              "                                                     [key], {});\n",
              "          if (!dataTable) return;\n",
              "\n",
              "          const docLinkHtml = 'Like what you see? Visit the ' +\n",
              "            '<a target=\"_blank\" href=https://colab.research.google.com/notebooks/data_table.ipynb>data table notebook</a>'\n",
              "            + ' to learn more about interactive tables.';\n",
              "          element.innerHTML = '';\n",
              "          dataTable['output_type'] = 'display_data';\n",
              "          await google.colab.output.renderOutput(dataTable, element);\n",
              "          const docLink = document.createElement('div');\n",
              "          docLink.innerHTML = docLinkHtml;\n",
              "          element.appendChild(docLink);\n",
              "        }\n",
              "      </script>\n",
              "    </div>\n",
              "  </div>\n",
              "  "
            ]
          },
          "metadata": {},
          "execution_count": 9
        }
      ]
    },
    {
      "cell_type": "code",
      "source": [
        "sigma = 72 * (1/68947.57) # from dyne/cm convert to psi/cm, 1 psi = 68947.57 dyne/cm2\n",
        "\n",
        "\n",
        "# permeability must be in unit cm2 to match with sigma dyne/cm\n",
        "k_1 = (1 / 1000) * (0.98689233 * 1E-08) # permeability of core 1, 1 darcy = 100 md = 0.98689233 micro.m2 = ... * 1E-08 cm2\n",
        "k_2 = (15 / 1000) * (0.98689233 * 1E-08)\n",
        "k_3 = (100 / 1000) * (0.98689233 * 1E-08)\n",
        "k_4 = (500 / 1000) * (0.98689233 * 1E-08)\n",
        "\n",
        "poro_1 = 0.08 # porosity of core 1\n",
        "poro_2 = 0.11\n",
        "poro_3 = 0.15\n",
        "poro_4 = 0.22"
      ],
      "metadata": {
        "id": "R7IjqvGKemQD"
      },
      "execution_count": 10,
      "outputs": []
    },
    {
      "cell_type": "code",
      "source": [
        "J_1 = (capilar.Pc_1 / (sigma * np.cos(np.deg2rad(theta)))) * np.sqrt(k_1 / poro_1)\n",
        "J_2 = (capilar.Pc_2 / (sigma * np.cos(np.deg2rad(theta)))) * np.sqrt(k_2 / poro_2)\n",
        "J_3 = (capilar.Pc_3 / (sigma * np.cos(np.deg2rad(theta)))) * np.sqrt(k_3 / poro_3)\n",
        "J_4 = (capilar.Pc_4 / (sigma * np.cos(np.deg2rad(theta)))) * np.sqrt(k_4 / poro_4)\n",
        "J = pd.DataFrame({\"Sw\":capilar.sw, \"Leverett_1\":J_1, \"Leverett_2\":J_2, \"Leverett_3\":J_3, \"Leverett_4\":J_4})\n",
        "J.head()"
      ],
      "metadata": {
        "colab": {
          "base_uri": "https://localhost:8080/",
          "height": 206
        },
        "id": "rGUc5p_5ezo4",
        "outputId": "5547e624-c8e6-4d1b-f73d-6b133cccefaa"
      },
      "execution_count": 11,
      "outputs": [
        {
          "output_type": "execute_result",
          "data": {
            "text/plain": [
              "     Sw  Leverett_1  Leverett_2  Leverett_3  Leverett_4\n",
              "0  15.0    1.407735    1.407944    1.408247    1.407568\n",
              "1  16.0    0.999959    1.000068    0.999614    0.999901\n",
              "2  17.0    0.700032    0.699998    0.699729    0.699728\n",
              "3  18.0    0.600006    0.600140    0.599768    0.600346\n",
              "4  19.0    0.499980    0.499785    0.499807    0.500965"
            ],
            "text/html": [
              "\n",
              "  <div id=\"df-b9f198d3-0398-434a-a907-b28d3dcf3c65\">\n",
              "    <div class=\"colab-df-container\">\n",
              "      <div>\n",
              "<style scoped>\n",
              "    .dataframe tbody tr th:only-of-type {\n",
              "        vertical-align: middle;\n",
              "    }\n",
              "\n",
              "    .dataframe tbody tr th {\n",
              "        vertical-align: top;\n",
              "    }\n",
              "\n",
              "    .dataframe thead th {\n",
              "        text-align: right;\n",
              "    }\n",
              "</style>\n",
              "<table border=\"1\" class=\"dataframe\">\n",
              "  <thead>\n",
              "    <tr style=\"text-align: right;\">\n",
              "      <th></th>\n",
              "      <th>Sw</th>\n",
              "      <th>Leverett_1</th>\n",
              "      <th>Leverett_2</th>\n",
              "      <th>Leverett_3</th>\n",
              "      <th>Leverett_4</th>\n",
              "    </tr>\n",
              "  </thead>\n",
              "  <tbody>\n",
              "    <tr>\n",
              "      <th>0</th>\n",
              "      <td>15.0</td>\n",
              "      <td>1.407735</td>\n",
              "      <td>1.407944</td>\n",
              "      <td>1.408247</td>\n",
              "      <td>1.407568</td>\n",
              "    </tr>\n",
              "    <tr>\n",
              "      <th>1</th>\n",
              "      <td>16.0</td>\n",
              "      <td>0.999959</td>\n",
              "      <td>1.000068</td>\n",
              "      <td>0.999614</td>\n",
              "      <td>0.999901</td>\n",
              "    </tr>\n",
              "    <tr>\n",
              "      <th>2</th>\n",
              "      <td>17.0</td>\n",
              "      <td>0.700032</td>\n",
              "      <td>0.699998</td>\n",
              "      <td>0.699729</td>\n",
              "      <td>0.699728</td>\n",
              "    </tr>\n",
              "    <tr>\n",
              "      <th>3</th>\n",
              "      <td>18.0</td>\n",
              "      <td>0.600006</td>\n",
              "      <td>0.600140</td>\n",
              "      <td>0.599768</td>\n",
              "      <td>0.600346</td>\n",
              "    </tr>\n",
              "    <tr>\n",
              "      <th>4</th>\n",
              "      <td>19.0</td>\n",
              "      <td>0.499980</td>\n",
              "      <td>0.499785</td>\n",
              "      <td>0.499807</td>\n",
              "      <td>0.500965</td>\n",
              "    </tr>\n",
              "  </tbody>\n",
              "</table>\n",
              "</div>\n",
              "      <button class=\"colab-df-convert\" onclick=\"convertToInteractive('df-b9f198d3-0398-434a-a907-b28d3dcf3c65')\"\n",
              "              title=\"Convert this dataframe to an interactive table.\"\n",
              "              style=\"display:none;\">\n",
              "        \n",
              "  <svg xmlns=\"http://www.w3.org/2000/svg\" height=\"24px\"viewBox=\"0 0 24 24\"\n",
              "       width=\"24px\">\n",
              "    <path d=\"M0 0h24v24H0V0z\" fill=\"none\"/>\n",
              "    <path d=\"M18.56 5.44l.94 2.06.94-2.06 2.06-.94-2.06-.94-.94-2.06-.94 2.06-2.06.94zm-11 1L8.5 8.5l.94-2.06 2.06-.94-2.06-.94L8.5 2.5l-.94 2.06-2.06.94zm10 10l.94 2.06.94-2.06 2.06-.94-2.06-.94-.94-2.06-.94 2.06-2.06.94z\"/><path d=\"M17.41 7.96l-1.37-1.37c-.4-.4-.92-.59-1.43-.59-.52 0-1.04.2-1.43.59L10.3 9.45l-7.72 7.72c-.78.78-.78 2.05 0 2.83L4 21.41c.39.39.9.59 1.41.59.51 0 1.02-.2 1.41-.59l7.78-7.78 2.81-2.81c.8-.78.8-2.07 0-2.86zM5.41 20L4 18.59l7.72-7.72 1.47 1.35L5.41 20z\"/>\n",
              "  </svg>\n",
              "      </button>\n",
              "      \n",
              "  <style>\n",
              "    .colab-df-container {\n",
              "      display:flex;\n",
              "      flex-wrap:wrap;\n",
              "      gap: 12px;\n",
              "    }\n",
              "\n",
              "    .colab-df-convert {\n",
              "      background-color: #E8F0FE;\n",
              "      border: none;\n",
              "      border-radius: 50%;\n",
              "      cursor: pointer;\n",
              "      display: none;\n",
              "      fill: #1967D2;\n",
              "      height: 32px;\n",
              "      padding: 0 0 0 0;\n",
              "      width: 32px;\n",
              "    }\n",
              "\n",
              "    .colab-df-convert:hover {\n",
              "      background-color: #E2EBFA;\n",
              "      box-shadow: 0px 1px 2px rgba(60, 64, 67, 0.3), 0px 1px 3px 1px rgba(60, 64, 67, 0.15);\n",
              "      fill: #174EA6;\n",
              "    }\n",
              "\n",
              "    [theme=dark] .colab-df-convert {\n",
              "      background-color: #3B4455;\n",
              "      fill: #D2E3FC;\n",
              "    }\n",
              "\n",
              "    [theme=dark] .colab-df-convert:hover {\n",
              "      background-color: #434B5C;\n",
              "      box-shadow: 0px 1px 3px 1px rgba(0, 0, 0, 0.15);\n",
              "      filter: drop-shadow(0px 1px 2px rgba(0, 0, 0, 0.3));\n",
              "      fill: #FFFFFF;\n",
              "    }\n",
              "  </style>\n",
              "\n",
              "      <script>\n",
              "        const buttonEl =\n",
              "          document.querySelector('#df-b9f198d3-0398-434a-a907-b28d3dcf3c65 button.colab-df-convert');\n",
              "        buttonEl.style.display =\n",
              "          google.colab.kernel.accessAllowed ? 'block' : 'none';\n",
              "\n",
              "        async function convertToInteractive(key) {\n",
              "          const element = document.querySelector('#df-b9f198d3-0398-434a-a907-b28d3dcf3c65');\n",
              "          const dataTable =\n",
              "            await google.colab.kernel.invokeFunction('convertToInteractive',\n",
              "                                                     [key], {});\n",
              "          if (!dataTable) return;\n",
              "\n",
              "          const docLinkHtml = 'Like what you see? Visit the ' +\n",
              "            '<a target=\"_blank\" href=https://colab.research.google.com/notebooks/data_table.ipynb>data table notebook</a>'\n",
              "            + ' to learn more about interactive tables.';\n",
              "          element.innerHTML = '';\n",
              "          dataTable['output_type'] = 'display_data';\n",
              "          await google.colab.output.renderOutput(dataTable, element);\n",
              "          const docLink = document.createElement('div');\n",
              "          docLink.innerHTML = docLinkHtml;\n",
              "          element.appendChild(docLink);\n",
              "        }\n",
              "      </script>\n",
              "    </div>\n",
              "  </div>\n",
              "  "
            ]
          },
          "metadata": {},
          "execution_count": 11
        }
      ]
    },
    {
      "cell_type": "code",
      "source": [
        "# plot Leverett function result\n",
        "p1 = plt.plot(J[['Sw']], J[['Leverett_1']])\n",
        "p2 = plt.plot(J[['Sw']], J[['Leverett_2']])\n",
        "p3 = plt.plot(J[['Sw']], J[['Leverett_3']])\n",
        "p4 = plt.plot(J[['Sw']], J[['Leverett_4']])\n",
        "plt.xlabel(\"Sw\"); plt.ylabel(\"J-Function (unitless)\")\n",
        "plt.legend((p1[0], p2[0], p3[0], p4[0]), ('1 md, porosity 0.08', '15 md, porosity 0.11', '100 md, porosity 0.15', '500 md, porosity 0.22'))\n",
        "plt.title(\"Leverett J-Function\")"
      ],
      "metadata": {
        "colab": {
          "base_uri": "https://localhost:8080/",
          "height": 312
        },
        "id": "xvLrxMl3e9h4",
        "outputId": "b45dc36d-0c41-4520-9c1a-47de1e1947cb"
      },
      "execution_count": 12,
      "outputs": [
        {
          "output_type": "execute_result",
          "data": {
            "text/plain": [
              "Text(0.5, 1.0, 'Leverett J-Function')"
            ]
          },
          "metadata": {},
          "execution_count": 12
        },
        {
          "output_type": "display_data",
          "data": {
            "text/plain": [
              "<Figure size 432x288 with 1 Axes>"
            ],
            "image/png": "[encoded data removed]"
          },
          "metadata": {
            "needs_background": "light"
          }
        }
      ]
    },
    {
      "cell_type": "code",
      "source": [
        "pressure = 2010 # in psia\n",
        "temp = 75 # in deg F\n",
        "sg = 0.7 # specific gravity\n",
        "x_h2s = 0.07 # mole fraction\n",
        "x_co2 = 0.1\n",
        "\n",
        "temp = temp + 459.67 # convert to Rankine\n",
        "\n",
        "# calculate pseudocritical properties (Sutton, valid for 0.57\n",
        "P_pc = 756.8 - (131.07 * sg) - (3.6 * sg**2)\n",
        "T_pc = 169.2 + (349.50 * sg) - (74 * sg**2) # in Rankine\n",
        "\n",
        "# calculate adjustment to pseudocritical properties for sour gas (Wiechert-Aziz, valid for x_co2<0.544 and x_h2s<0.738)\n",
        "e = (120 * (((x_h2s + x_co2)**0.9) - ((x_h2s + x_co2)**1.6))) + (15 * (x_h2s**0.5 - x_h2s**4))\n",
        "T_pc_corr = T_pc - e # corrected T_pc\n",
        "P_pc_corr = (P_pc * T_pc_corr) / (T_pc - x_h2s * e * (1-x_h2s))\n",
        "\n",
        "# calculate pseudoreduced properties\n",
        "P_pr = pressure / P_pc_corr\n",
        "T_pr = temp / T_pc_corr\n",
        "\n",
        "print(\"Gas pseudocritical temperature: \",T_pc_corr, \"deg Rankine\")\n",
        "print(\"Gas pseudocritical pressure: \",P_pc_corr, \"psia\")\n",
        "print(\"Gas pseudoreduced temperature: \",T_pr)\n",
        "print(\"Gas pseudoreduced pressure: \",P_pr)"
      ],
      "metadata": {
        "colab": {
          "base_uri": "https://localhost:8080/"
        },
        "id": "O5RDf8NjfQAd",
        "outputId": "7bda5252-9799-4bc8-9d21-44ef53ff492a"
      },
      "execution_count": 13,
      "outputs": [
        {
          "output_type": "stream",
          "name": "stdout",
          "text": [
            "Gas pseudocritical temperature:  356.31219397078127 deg Rankine\n",
            "Gas pseudocritical pressure:  628.2143047814683 psia\n",
            "Gas pseudoreduced temperature:  1.5005661019949397\n",
            "Gas pseudoreduced pressure:  3.1995450990234966\n"
          ]
        }
      ]
    },
    {
      "cell_type": "code",
      "source": [
        "z = 0.772 # according to book\n",
        "print(\"Gas compressibility factor from Standing graph: \",z)"
      ],
      "metadata": {
        "colab": {
          "base_uri": "https://localhost:8080/"
        },
        "id": "2z8USzIEfd-E",
        "outputId": "190d4aa2-afba-4c71-9b71-bde86c9725e4"
      },
      "execution_count": 14,
      "outputs": [
        {
          "output_type": "stream",
          "name": "stdout",
          "text": [
            "Gas compressibility factor from Standing graph:  0.772\n"
          ]
        }
      ]
    },
    {
      "cell_type": "code",
      "source": [
        "\n",
        "\n",
        "R = 10.732 # gas constant in (ft3*psi)/(lb-mol*R), see gas constants above\n",
        "rhogas = (28.97 * sg * pressure) / (z * R * temp)\n",
        "print(\"Gas density: \",rhogas, \"lbm/ft3\")"
      ],
      "metadata": {
        "colab": {
          "base_uri": "https://localhost:8080/"
        },
        "id": "0vjx8SplflxI",
        "outputId": "701c7775-d25b-4eaa-b032-1bc9539f1aa4"
      },
      "execution_count": 15,
      "outputs": [
        {
          "output_type": "stream",
          "name": "stdout",
          "text": [
            "Gas density:  9.201503836047605 lbm/ft3\n"
          ]
        }
      ]
    },
    {
      "cell_type": "code",
      "source": [
        "Bg = 0.0282793 * z * temp / pressure\n",
        "\n",
        "print(\"Gas volume factor: \",Bg, \"res ft3/scf\")"
      ],
      "metadata": {
        "colab": {
          "base_uri": "https://localhost:8080/"
        },
        "id": "0iEdtfCJfwtP",
        "outputId": "bb692508-c27e-4896-f04c-c8ec4b161261"
      },
      "execution_count": 16,
      "outputs": [
        {
          "output_type": "stream",
          "name": "stdout",
          "text": [
            "Gas volume factor:  0.005807319428622887 res ft3/scf\n"
          ]
        }
      ]
    },
    {
      "cell_type": "code",
      "source": [
        "Mg = 28.97 * sg\n",
        "# viscosity is traced using Fig 2.12 graph, also the corrections of h2s and co2\n",
        "mu_ga = 0.0102 # in centipoise\n",
        "mu_h2s_corr = 0.0002 # h2s corrector\n",
        "mu_co2_corr = 0.0005 \n",
        "mu_ga_corr = mu_ga + mu_h2s_corr + mu_co2_corr\n",
        "\n",
        "mu_ratio = 1.55 # viscosity ratio traced from Fig 2.14 graph\n",
        "mu_carr = mu_ga_corr * mu_ratio\n",
        "\n",
        "# alternative to book: use Lee et al\n",
        "K = ((0.00094 + 2E-06)*(temp**1.5)) / (209 + 19*Mg + temp)\n",
        "rhogas_lee = rhogas * 0.0160185 # lbm/ft3 converted to gas density unit of Lee et al (g/cm3)\n",
        "x = 3.5 + (986 / temp) + (0.01 * Mg)\n",
        "y = 2.4 - 0.2*x\n",
        "\n",
        "mu_lee = K * np.exp(x * (rhogas_lee**y))\n",
        "\n",
        "print(\"Gas viscosity using Carr et al: \",mu_carr,\"cP\")\n",
        "print(\"Gas viscosity using Lee et al: \",mu_lee,\"cP\")"
      ],
      "metadata": {
        "colab": {
          "base_uri": "https://localhost:8080/"
        },
        "id": "0XG-oxHCgBYB",
        "outputId": "34d842e0-b935-4ccf-832f-3e7e78b7c349"
      },
      "execution_count": 17,
      "outputs": [
        {
          "output_type": "stream",
          "name": "stdout",
          "text": [
            "Gas viscosity using Carr et al:  0.016895000000000004 cP\n",
            "Gas viscosity using Lee et al:  0.01648326802386323 cP\n"
          ]
        }
      ]
    },
    {
      "cell_type": "code",
      "source": [
        "trube_factor = 0.5 # is c_pr*T_pr\n",
        "c_pr_graphical = trube_factor / T_pr\n",
        "cgas_graphical = c_pr_graphical / P_pc_corr # pseudocritical pressure (P_pc_corr) has been solved previously (Example 2.4)\n",
        "\n",
        "# alternative: use Mattar et al analytical solution\n",
        "rho_pr = (0.27 * P_pr) / (z * T_pr)\n",
        "\n",
        "a1 = 0.3265; a2 = -1.0700; a3 = -0.5339; a4 = 0.01569; a5 = -0.05165; a6 = 0.5475\n",
        "a7 = -0.7361; a8 = 0.1844; a9 = 0.1056; a10 = 0.6134; a11 = 0.7210\n",
        "\n",
        "do = ((a1 + (a2/T_pr) + (a3/T_pr**3) +(a4/T_pr**4) + (a5/T_pr**5)) * rho_pr) + \\\n",
        "     (2 * ((a6 + (a7/T_pr) + (a8/T_pr**2))) * rho_pr**2) - \\\n",
        "     (5 * a9 * (((a7/T_pr) + (a8/T_pr**2))) * rho_pr**4) + (1 + (a11 * rho_pr**2) - (a11 * rho_pr**2)**2) \\\n",
        "     * ((2 * a10 * rho_pr / T_pr**3)*np.exp(-a11 * rho_pr**2))\n",
        "\n",
        "c_pr_analytical = (1 / P_pr) - ((0.27 / (z**2 * T_pr)) * (do / (1 + ((rho_pr / z) * do))))\n",
        "cgas_analytical = c_pr_analytical / P_pc_corr\n",
        "\n",
        "print(\"Gas isothermal compressibility at 1 atm using Trube and Mattar: \",cgas_graphical,\"psi^-1\")\n",
        "print(\"Gas isothermal compressibility at 1 atm using Mattar analytical: \",cgas_analytical,\"psi^-1\")"
      ],
      "metadata": {
        "colab": {
          "base_uri": "https://localhost:8080/"
        },
        "id": "o2JcEeQNgN0b",
        "outputId": "02b8ce18-f191-41ad-b8c7-c71a4ea20933"
      },
      "execution_count": 18,
      "outputs": [
        {
          "output_type": "stream",
          "name": "stdout",
          "text": [
            "Gas isothermal compressibility at 1 atm using Trube and Mattar:  0.0005304043187384391 psi^-1\n",
            "Gas isothermal compressibility at 1 atm using Mattar analytical:  0.00048026851516057723 psi^-1\n"
          ]
        }
      ]
    },
    {
      "cell_type": "markdown",
      "source": [
        "### Python worked examples and problems from Reservoir Engineering textbooks (Brian Towler SPE Textbook Vol. 8, etc.)"
      ],
      "metadata": {
        "id": "DR6bX_O8hsT9"
      }
    }
  ]
}