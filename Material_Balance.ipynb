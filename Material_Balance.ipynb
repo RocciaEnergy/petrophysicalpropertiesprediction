{
  "nbformat": 4,
  "nbformat_minor": 0,
  "metadata": {
    "colab": {
      "provenance": []
    },
    "kernelspec": {
      "name": "python3",
      "display_name": "Python 3"
    },
    "language_info": {
      "name": "python"
    }
  },
  "cells": [
    {
      "cell_type": "code",
      "execution_count": 1,
      "metadata": {
        "id": "ewNsPlxIABuM"
      },
      "outputs": [],
      "source": [
        "def inplace(Gfgi, Nfoi, Rsi, Rvi):\n",
        "\n",
        "  # Nfoi: initial oil in free-oil phase at time t (STB)\n",
        "  # Gfgi: initial gas in free-gas phase at time t (scf)\n",
        "  # Rsi: initial solution gas-oil ratio (SGOR) at time t (scf/STB)\n",
        "  # Rvi: initial volatile oil-gas ratio at time t (STB/scf)\n",
        "  # G: initial gas in reservoir (OGIP) (scf)\n",
        "  # N: initial oil in reservoir (OOIP) (STB)\n",
        "\n",
        "  G = Gfgi + Nfoi * Rsi\n",
        "  N = Nfoi + Gfgi * Rvi\n",
        "  return(G, N)"
      ]
    },
    {
      "cell_type": "code",
      "source": [
        "def matbalance(Np, Gp, Bo, Bg, Boi, Bgi, Bw, Nfoi, Gfgi, Rs, Rv, Rsi, Rvi, We, Wp, pi, p, cf, cw, swi):\n",
        "  # Equation 5.24 to 5.31\n",
        "\n",
        "  # Np: cumulative oil produced at time t (STB)\n",
        "  # Gp: cumulative gas produced at time t (scf)\n",
        "  # Bo: oil formation volume factor (FVF) at time t (RB/STB)\n",
        "  # Bg: gas formation volume factor (FVF) at time t (RB/scf)\n",
        "  # Boi: initial oil formation volume factor (FVF) at time t (RB/STB)\n",
        "  # Bgi: initial gas formation volume factor (FVF) at time t (RB/scf)\n",
        "  # Bw: water formation volume factor (FVF) at time t (RB/STB)\n",
        "  # Nfoi: initial oil in free-oil phase at time t (STB)\n",
        "  # Gfgi: initial gas in free-gas phase at time t (scf)\n",
        "  # Rs: solution gas-oil ratio (SGOR) at time t (scf/STB)\n",
        "  # Rv: volatile oil-gas ratio at time t (STB/scf)\n",
        "  # Rsi: initial solution gas-oil ratio (SGOR) at time t (scf/STB)\n",
        "  # Rvi: initial volatile oil-gas ratio at time t (STB/scf)\n",
        "  # We: water encroachment from aquifer (res bbl)\n",
        "  # Wp: cumulative water produced at time t (STB)\n",
        "  # pi: initial reservoir pressure (psia)\n",
        "  # p: current reservoir pressure (psia)\n",
        "  # cf: isothermal formation compressibility (psi^-1)\n",
        "  # cw: isothermal water compressibility (psi^-1)\n",
        "  # swi: initial water saturation\n",
        "\n",
        "  # right-hand term\n",
        "  F = (Np * (((Bo - Rs * Bg) / (1 - Rv * Rs)))) + (Gp * (((Bg - Rv * Bo) / (1 - Rv * Rs)))) # F: reservoir voidage from production (res bbl)\n",
        "\n",
        "  # left-hand term\n",
        "  Bto = ((Bo * (1 - Rv * Rsi)) + (Bg * (Rsi - Rs))) / (1 - Rv * Rs) # Bto: total oil FVF at time t (RB/STB)\n",
        "  Eo = Bto - Boi # Eo: oil expansion factor (RB/STB)\n",
        "\n",
        "  Btg = ((Bg * (1 - Rs * Rvi)) + (Bo * (Rvi - Rv))) / (1 - Rv * Rs)  # Bto: total gas FVF at time t (RB/scf)\n",
        "  Eg = Btg - Bgi # Eg: gas expansion factor (RB/scf)\n",
        "  delta_w = We - Bw * Wp\n",
        "\n",
        "  delta_p = p - pi\n",
        "  Efw = ((cf + cw * swi) / (1 - swi)) * delta_p \n",
        "\n",
        "  left_term = (Nfoi * Eo) + (Gfgi * Eg) + (delta_w + ((Nfoi * Boi) + (Gfgi * Bgi)) * Efw)\n",
        "  \n",
        "  return(F, left_term) # F = left_term (balance)\n",
        "     "
      ],
      "metadata": {
        "id": "rmj3hgL5AM0C"
      },
      "execution_count": 2,
      "outputs": []
    },
    {
      "cell_type": "code",
      "source": [
        "# Rp is initially: Rs = Gp / Np\n",
        "\n",
        "def matbalance(Rp, Bo, Bg, Boi, Bgi, Bw, Nfoi, Gfgi, Rs, Rv, Rsi, Rvi, We, Wp, pi, p, cf, cw, swi):\n",
        "  # Equation 5.24 to 5.31\n",
        "\n",
        "  # Rp: cumulative produced gas-oil ratio (scf/STB)\n",
        "  # Bo: oil formation volume factor (FVF) at time t (RB/STB)\n",
        "  # Bg: gas formation volume factor (FVF) at time t (RB/scf)\n",
        "  # Boi: initial oil formation volume factor (FVF) at time t (RB/STB)\n",
        "  # Bgi: initial gas formation volume factor (FVF) at time t (RB/scf)\n",
        "  # Bw: water formation volume factor (FVF) at time t (RB/STB)\n",
        "  # Nfoi: initial oil in free-oil phase at time t (STB)\n",
        "  # Gfgi: initial gas in free-gas phase at time t (scf)\n",
        "  # Rs: solution gas-oil ratio (SGOR) at time t (scf/STB)\n",
        "  # Rv: volatile oil-gas ratio at time t (STB/scf)\n",
        "  # Rsi: initial solution gas-oil ratio (SGOR) at time t (scf/STB)\n",
        "  # Rvi: initial volatile oil-gas ratio at time t (STB/scf)\n",
        "  # We: water encroachment from aquifer (res bbl)\n",
        "  # Wp: cumulative water produced at time t (STB)\n",
        "  # pi: initial reservoir pressure (psia)\n",
        "  # p: current reservoir pressure (psia)\n",
        "  # cf: isothermal formation compressibility (psi^-1)\n",
        "  # cw: isothermal water compressibility (psi^-1)\n",
        "  # swi: initial water saturation\n",
        "\n",
        "  # right-hand term IS MODIFIED\n",
        "  F = Np * ((Bo * (1 - Rv * Rp)) + (Bg * (Rp - Rs))) / (1 - Rv * Rs) # F: reservoir voidage from production (res bbl)\n",
        "\n",
        "  # left-hand term\n",
        "  Bto = ((Bo * (1 - Rv * Rsi)) + (Bg * (Rsi - Rs))) / (1 - Rv * Rs) # Bto: total oil FVF at time t (RB/STB)\n",
        "  Eo = Bto - Boi # Eo: oil expansion factor (RB/STB)\n",
        "\n",
        "  Btg = ((Bg * (1 - Rs * Rvi)) + (Bo * (Rvi - Rv))) / (1 - Rv * Rs)  # Bto: total gas FVF at time t (RB/scf)\n",
        "  Eg = Btg - Bgi # Eg: gas expansion factor (RB/scf)\n",
        "\n",
        "  delta_w = We - Bw * Wp\n",
        "\n",
        "  delta_p = p - pi\n",
        "  Efw = ((cf + cw * swi) / (1 - swi)) * delta_p # Efw: formation water expansion factor (RB/STB)\n",
        "\n",
        "  left_term = (Nfoi * Eo) + (Gfgi * Eg) + (delta_w + ((Nfoi * Boi) + (Gfgi * Bgi)) * Efw)\n",
        "\n",
        "  return(F, left_term) # F = left_term (balance)"
      ],
      "metadata": {
        "id": "e9h4AE_vAQfC"
      },
      "execution_count": 3,
      "outputs": []
    },
    {
      "cell_type": "code",
      "source": [
        "\n",
        "\n",
        "def matbalance(r, Np, Gp, Bo, Bg, Boi, Bgi, Bw, Nfoi, Rs, Rv, Rsi, Rvi, We, Wp, pi, p, cf, cw, swi):\n",
        "  # Equation 5.24 to 5.31\n",
        "\n",
        "  # r: gas-cap volume\n",
        "  # Np: cumulative oil produced at time t (STB)\n",
        "  # Gp: cumulative gas produced at time t (scf)\n",
        "  # Bo: oil formation volume factor (FVF) at time t (RB/STB)\n",
        "  # Bg: gas formation volume factor (FVF) at time t (RB/scf)\n",
        "  # Boi: initial oil formation volume factor (FVF) at time t (RB/STB)\n",
        "  # Bgi: initial gas formation volume factor (FVF) at time t (RB/scf)\n",
        "  # Bw: water formation volume factor (FVF) at time t (RB/STB)\n",
        "  # Nfoi: initial oil in free-oil phase at time t (STB)\n",
        "  # Rs: solution gas-oil ratio (SGOR) at time t (scf/STB)\n",
        "  # Rv: volatile oil-gas ratio at time t (STB/scf)\n",
        "  # Rsi: initial solution gas-oil ratio (SGOR) at time t (scf/STB)\n",
        "  # Rvi: initial volatile oil-gas ratio at time t (STB/scf)\n",
        "  # We: water encroachment from aquifer (res bbl)\n",
        "  # Wp: cumulative water produced at time t (STB)\n",
        "  # pi: initial reservoir pressure (psia)\n",
        "  # p: current reservoir pressure (psia)\n",
        "  # cf: isothermal formation compressibility (psi^-1)\n",
        "  # cw: isothermal water compressibility (psi^-1)\n",
        "  # swi: initial water saturation\n",
        "\n",
        "  # right-hand term\n",
        "  F = (Np * (((Bo - Rs * Bg) / (1 - Rv * Rs)))) + (Gp * (((Bg - Rv * Bo) / (1 - Rv * Rs))))\n",
        "\n",
        "  # left-hand term IS MODIFIED\n",
        "  Bto = ((Bo * (1 - Rv * Rsi)) + (Bg * (Rsi - Rs))) / (1 - Rv * Rs)\n",
        "  Eo = Bto - Boi\n",
        "\n",
        "  Btg = ((Bg * (1 - Rs * Rvi)) + (Bo * (Rvi - Rv))) / (1 - Rv * Rs)\n",
        "  Eg = Btg - Bgi\n",
        "\n",
        "  delta_w = We - Bw * Wp\n",
        "\n",
        "  delta_p = p - pi\n",
        "  Efw = ((cf + cw * swi) / (1 - swi)) * delta_p \n",
        "\n",
        "  left_term = (Nfoi * Eo) + (Nfoi * Boi * r * Eg / Bgi) + delta_w + (Nfoi * Boi * (1 + r) * Efw)\n",
        "  \n",
        "  return(F, left_term) # F = left_term (balance)"
      ],
      "metadata": {
        "id": "0dn68A1YAZpe"
      },
      "execution_count": 5,
      "outputs": []
    },
    {
      "cell_type": "code",
      "source": [
        "def plot_5_1(F, Gfgi, Bgi, Bo, Bg, Rs, Rvi, Rv, cf, cw, swi, p, pi):\n",
        "\n",
        "  import matplotlib.pyplot as plt\n",
        "\n",
        "  # Nfoi = 0\n",
        "\n",
        "  Btg = ((Bg * (1 - Rs * Rvi)) + (Bo * (Rvi - Rv))) / (1 - Rv * Rs)\n",
        "  Eg = Btg - Bgi\n",
        "\n",
        "  delta_p = p - pi\n",
        "  Efw = ((cf + cw * swi) / (1 - swi)) * delta_p \n",
        "\n",
        "  x_axis = Eg + (Bgi * Efw)\n",
        "  y_axis = F\n",
        "  plt.plot(x_axis, y_axis, '.')\n",
        "  return()"
      ],
      "metadata": {
        "id": "M8dMJhwsAx7M"
      },
      "execution_count": 6,
      "outputs": []
    },
    {
      "cell_type": "code",
      "source": [
        "def plot_5_2(F, Gfgi, Boi, Bo, Bg, Rv, Rsi, Rs, cf, cw, swi, p, pi):\n",
        "\n",
        "  import matplotlib.pyplot as plt\n",
        "\n",
        "  # p > P_bubble (pressure is above bubblepoint), Gfgi = 0, delta_w = 0\n",
        "\n",
        "  Bto = ((Bo * (1 - Rv * Rsi)) + (Bg * (Rsi - Rs))) / (1 - Rv * Rs)\n",
        "  Eo = Bto - Boi\n",
        "\n",
        "  delta_p = p - pi\n",
        "  Efw = ((cf + cw * swi) / (1 - swi)) * delta_p \n",
        "\n",
        "  x_axis = Eo + (Boi * Efw)\n",
        "  y_axis = F\n",
        "  plt.plot(x_axis, y_axis, '.')\n",
        "  return()"
      ],
      "metadata": {
        "id": "G4vL2K6AA4RV"
      },
      "execution_count": 7,
      "outputs": []
    },
    {
      "cell_type": "code",
      "source": [
        "def plot_5_3a(F, Gfgi, Boi, Bgi, Bo, Bg, Rv, Rsi, Rvi, Rs, cf, cw, swi, p, pi):\n",
        "\n",
        "  import matplotlib.pyplot as plt\n",
        "\n",
        "  # only delta_w = 0\n",
        "\n",
        "  Bto = ((Bo * (1 - Rv * Rsi)) + (Bg * (Rsi - Rs))) / (1 - Rv * Rs)\n",
        "  Eo = Bto - Boi\n",
        "\n",
        "  Btg = ((Bg * (1 - Rs * Rvi)) + (Bo * (Rvi - Rv))) / (1 - Rv * Rs)\n",
        "  Eg = Btg - Bgi\n",
        "\n",
        "  delta_p = p - pi\n",
        "  Efw = ((cf + cw * swi) / (1 - swi)) * delta_p \n",
        "\n",
        "  x_axis = (Eg + (Bgi * Efw)) / Eo + (Boi * Efw)\n",
        "  y_axis = F / (Eo + (Boi * Efw))\n",
        "  plt.plot(x_axis, y_axis, '.')\n",
        "  return()"
      ],
      "metadata": {
        "id": "wXu2ZKyrA_Cw"
      },
      "execution_count": 8,
      "outputs": []
    },
    {
      "cell_type": "code",
      "source": [
        "\n",
        "def plot_5_4b(F, Gfgi, Boi, Bo, Bg, Rv, Rsi, Rs, cf, cw, swi, p, pi, Np, t):\n",
        "\n",
        "  # t: time\n",
        "  # Np: cumulative oil produced at time t (STB)\n",
        "\n",
        "  import matplotlib.pyplot as plt\n",
        "\n",
        "  # p > P_bubble (pressure is above bubblepoint), Gfgi = 0\n",
        "\n",
        "  Bto = ((Bo * (1 - Rv * Rsi)) + (Bg * (Rsi - Rs))) / (1 - Rv * Rs)\n",
        "  Eo = Bto - Boi\n",
        "\n",
        "  delta_p = p - pi\n",
        "  Efw = ((cf + cw * swi) / (1 - swi)) * delta_p \n",
        "\n",
        "  # versus time\n",
        "  x_axis_t = t\n",
        "  y_axis_t = F / (Eo + Boi * Efw)\n",
        "\n",
        "  # versus production \n",
        "  x_axis_prod = Np\n",
        "  y_axis_prod = F / (Eo + Boi * Efw)\n",
        "\n",
        "  plt.subplot(1,2,1)\n",
        "  plt.plot(x_axis_t, y_axis_t, '.')\n",
        "  plt.subplot(1,2,2)\n",
        "  plt.plot(x_axis_prod, y_axis_prod, '.')\n",
        "  return()"
      ],
      "metadata": {
        "id": "aoJhasRqBW1e"
      },
      "execution_count": 9,
      "outputs": []
    },
    {
      "cell_type": "code",
      "source": [
        "def pirson(Np, Gp, Bo, Bg, Boi, Bgi, Bw, Nfoi, Gfgi, Rs, Rv, Rsi, Rvi, We, Wp, pi, p, cf, cw, swi):\n",
        "\n",
        "  # if E_fw want to be neglected, input cf = 0, cw = 0, swi = 0, so later i_fd = 0\n",
        "\n",
        "  F = (Np * (((Bo - Rs * Bg) / (1 - Rv * Rs)))) + (Gp * (((Bg - Rv * Bo) / (1 - Rv * Rs))))\n",
        "\n",
        "  Bto = ((Bo * (1 - Rv * Rsi)) + (Bg * (Rsi - Rs))) / (1 - Rv * Rs)\n",
        "  Eo = Bto - Boi\n",
        "\n",
        "  Btg = ((Bg * (1 - Rs * Rvi)) + (Bo * (Rvi - Rv))) / (1 - Rv * Rs)\n",
        "  Eg = Btg - Bgi\n",
        "\n",
        "  delta_w = We - Bw * Wp\n",
        "\n",
        "  delta_p = p - pi\n",
        "  Efw = ((cf + cw * swi) / (1 - swi)) * delta_p \n",
        "\n",
        "  i_dd = Nfoi * Eo / F \n",
        "  i_sd = Gfgi * Eg / F\n",
        "  i_wd = delta_w / F\n",
        "  i_fd = (((Nfoi * Boi) + (Gfgi * Bgi)) * Efw) / F\n",
        "  return(i_dd + i_sd + i_wd + i_fd) # the result is 1 (balance)\n",
        "     "
      ],
      "metadata": {
        "id": "yDaPQjdxBfLT"
      },
      "execution_count": 10,
      "outputs": []
    },
    {
      "cell_type": "code",
      "source": [
        "def sills(Np, Gp, Bo, Bg, Boi, Bgi, Bw, Nfoi, Gfgi, Rs, Rv, Rsi, Rvi, We, Wp, pi, p, cf, cw, swi, G_pg, G_inj, W_inj):\n",
        "\n",
        "  # New terms for Sills:\n",
        "  # G_pg: gas produced from the vapor phase (scf)\n",
        "  # G_inj: cumulative gas injected at time t (scf)\n",
        "  # W_inj: cumulative water injected at time t (STB)\n",
        "\n",
        "  # if E_fw want to be neglected, input cf = 0, cw = 0, swi = 0, so later i_fd = 0\n",
        "\n",
        "  F = (Np * (((Bo - Rs * Bg) / (1 - Rv * Rs)))) + (Gp * (((Bg - Rv * Bo) / (1 - Rv * Rs))))\n",
        "\n",
        "  Bto = ((Bo * (1 - Rv * Rsi)) + (Bg * (Rsi - Rs))) / (1 - Rv * Rs)\n",
        "  Eo = Bto - Boi\n",
        "\n",
        "  Btg = ((Bg * (1 - Rs * Rvi)) + (Bo * (Rvi - Rv))) / (1 - Rv * Rs)\n",
        "  Eg = Btg - Bgi\n",
        "\n",
        "  delta_w = We - Bw * Wp\n",
        "\n",
        "  delta_p = p - pi\n",
        "  Efw = ((cf + cw * swi) / (1 - swi)) * delta_p \n",
        "\n",
        "  i_dd = ((Nfoi * Eo) - ((Gp - G_pg - Np * Rs) * Bg)) / (Np * Bo)\n",
        "  i_sd = ((Gfgi * Eg) - ((G_inj - G_pg) * Bg)) / (Np * Bo)\n",
        "  i_wd = (We + ((W_inj - Wp) * Bw)) / (Np * Bo)\n",
        "  i_fd = (((Nfoi * Boi) + (Gfgi * Bgi)) * Efw) / (Np * Bo)\n",
        "  return(i_dd + i_sd + i_wd + i_fd) # the result is 1 (balance)"
      ],
      "metadata": {
        "id": "GAUBNvd8BmO4"
      },
      "execution_count": 11,
      "outputs": []
    },
    {
      "cell_type": "code",
      "source": [
        "import numpy as np\n",
        "import matplotlib.pyplot as plt\n",
        "\n",
        "def square(x):\n",
        "  y = x**2\n",
        "  c = x**3\n",
        "  plt.subplot(1,2,1)\n",
        "  plt.plot(x, y, '.')\n",
        "  plt.subplot(1,2,2)\n",
        "  plt.plot(x, c, '.')\n",
        "  return()\n",
        "\n",
        "x = np.linspace(-16, 16, 100)\n",
        "y = square(x)"
      ],
      "metadata": {
        "colab": {
          "base_uri": "https://localhost:8080/",
          "height": 265
        },
        "id": "tzkyiPHJBuEf",
        "outputId": "07ff06ed-8396-4a61-9c8b-0fc2ea4a3d0c"
      },
      "execution_count": 12,
      "outputs": [
        {
          "output_type": "display_data",
          "data": {
            "text/plain": [
              "<Figure size 432x288 with 2 Axes>"
            ],
            "image/png": "[encoded data removed]"
          },
          "metadata": {
            "needs_background": "light"
          }
        }
      ]
    }
  ]
}